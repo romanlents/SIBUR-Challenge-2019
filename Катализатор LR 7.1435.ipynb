{
 "cells": [
  {
   "cell_type": "code",
   "execution_count": 325,
   "metadata": {},
   "outputs": [],
   "source": [
    "import numpy as np\n",
    "import pandas as pd\n",
    "import pathlib\n",
    "import matplotlib.pyplot as plt\n",
    "import datetime as dt\n",
    "import json\n",
    "\n",
    "from sklearn.linear_model import LinearRegression, Lasso, Ridge\n",
    "from sklearn.model_selection import cross_val_score, KFold, TimeSeriesSplit\n",
    "from sklearn.metrics import make_scorer\n",
    "\n",
    "import statsmodels.api as sm\n",
    "from statsmodels.regression.linear_model import OLS\n",
    "from tqdm import tqdm_notebook as tqdm"
   ]
  },
  {
   "cell_type": "code",
   "execution_count": 326,
   "metadata": {},
   "outputs": [],
   "source": [
    "def reduce_mem_usage(df, verbose=True):\n",
    "    numerics = ['int16', 'int32', 'int64', 'float16', 'float32', 'float64']\n",
    "    start_mem = df.memory_usage().sum() / 1024**2    \n",
    "    for col in df.columns:\n",
    "        col_type = df[col].dtypes\n",
    "        if col_type in numerics:\n",
    "            c_min = df[col].min()\n",
    "            c_max = df[col].max()\n",
    "            if str(col_type)[:3] == 'int':\n",
    "                if c_min > np.iinfo(np.int8).min and c_max < np.iinfo(np.int8).max:\n",
    "                    df[col] = df[col].astype(np.int8)\n",
    "                elif c_min > np.iinfo(np.int16).min and c_max < np.iinfo(np.int16).max:\n",
    "                    df[col] = df[col].astype(np.int16)\n",
    "                elif c_min > np.iinfo(np.int32).min and c_max < np.iinfo(np.int32).max:\n",
    "                    df[col] = df[col].astype(np.int32)\n",
    "                elif c_min > np.iinfo(np.int64).min and c_max < np.iinfo(np.int64).max:\n",
    "                    df[col] = df[col].astype(np.int64)     \n",
    "    end_mem = df.memory_usage().sum() / 1024**2\n",
    "    if verbose: print('Mem. usage decreased to {:5.2f} Mb ({:.1f}% reduction)'.format(end_mem, 100 * (start_mem - end_mem) / start_mem))\n",
    "    return df"
   ]
  },
  {
   "cell_type": "code",
   "execution_count": 327,
   "metadata": {},
   "outputs": [],
   "source": [
    "DATA_DIR = pathlib.Path(\"./\")\n",
    "\n",
    "train_data = pd.read_csv(DATA_DIR.joinpath(\"activity_train.csv.zip\"),\n",
    "                         parse_dates=[\"date\"], index_col=\"date\",\n",
    "                         compression=\"zip\")\n",
    "test_data = pd.read_csv(DATA_DIR.joinpath(\"activity_test.csv.zip\"),\n",
    "                        parse_dates=[\"date\"], index_col=\"date\",\n",
    "                        compression=\"zip\")\n",
    "activity_test_target = pd.read_csv(DATA_DIR.joinpath(\"activity_test_timestamps.csv\"),\n",
    "                                   index_col=\"date\",\n",
    "                                   parse_dates=[\"date\"])"
   ]
  },
  {
   "cell_type": "code",
   "execution_count": 328,
   "metadata": {},
   "outputs": [
    {
     "name": "stdout",
     "output_type": "stream",
     "text": [
      "Mem. usage decreased to 215.50 Mb (0.0% reduction)\n",
      "Mem. usage decreased to 45.08 Mb (0.0% reduction)\n",
      "Mem. usage decreased to  0.66 Mb (0.0% reduction)\n"
     ]
    }
   ],
   "source": [
    "train_data = reduce_mem_usage(train_data)\n",
    "test_data = reduce_mem_usage(test_data)\n",
    "activity_test_target = reduce_mem_usage(activity_test_target)"
   ]
  },
  {
   "cell_type": "code",
   "execution_count": 329,
   "metadata": {},
   "outputs": [],
   "source": [
    "train_data['activity'] = train_data['activity'].shift(-1, freq='H')"
   ]
  },
  {
   "cell_type": "markdown",
   "metadata": {},
   "source": [
    "<h3> append train and test"
   ]
  },
  {
   "cell_type": "code",
   "execution_count": 330,
   "metadata": {},
   "outputs": [],
   "source": [
    "train_data = train_data.drop(['f28','atactic_1','atactic_2','atactic_3'],axis=1)\n",
    "test_data = test_data.drop('f28',axis=1)\n",
    "\n",
    "test_data['activity'] = np.nan"
   ]
  },
  {
   "cell_type": "code",
   "execution_count": 331,
   "metadata": {},
   "outputs": [],
   "source": [
    "df = train_data.append(test_data)"
   ]
  },
  {
   "cell_type": "markdown",
   "metadata": {},
   "source": [
    "<h4> add features"
   ]
  },
  {
   "cell_type": "code",
   "execution_count": 332,
   "metadata": {},
   "outputs": [],
   "source": [
    "# df['f47'] = df['f47'].rolling(window=3).mean()\n",
    "\n",
    "# df['f47_60'] = df['f47'].rolling(window=60).mean()\n",
    "\n",
    "# df['f46_5'] = df['f46'].rolling(window=5).mean()\n",
    "\n",
    "# df['f25/f24'] = df['f25'] / df['f24']"
   ]
  },
  {
   "cell_type": "markdown",
   "metadata": {},
   "source": [
    "<h3> check correlated features"
   ]
  },
  {
   "cell_type": "code",
   "execution_count": 333,
   "metadata": {},
   "outputs": [],
   "source": [
    "#so far works best with -0.2, 0.2"
   ]
  },
  {
   "cell_type": "code",
   "execution_count": 334,
   "metadata": {},
   "outputs": [
    {
     "data": {
      "text/html": [
       "<div>\n",
       "<style scoped>\n",
       "    .dataframe tbody tr th:only-of-type {\n",
       "        vertical-align: middle;\n",
       "    }\n",
       "\n",
       "    .dataframe tbody tr th {\n",
       "        vertical-align: top;\n",
       "    }\n",
       "\n",
       "    .dataframe thead th {\n",
       "        text-align: right;\n",
       "    }\n",
       "</style>\n",
       "<table border=\"1\" class=\"dataframe\">\n",
       "  <thead>\n",
       "    <tr style=\"text-align: right;\">\n",
       "      <th></th>\n",
       "      <th>activity</th>\n",
       "    </tr>\n",
       "  </thead>\n",
       "  <tbody>\n",
       "    <tr>\n",
       "      <th>f4</th>\n",
       "      <td>-0.66</td>\n",
       "    </tr>\n",
       "    <tr>\n",
       "      <th>f6</th>\n",
       "      <td>0.21</td>\n",
       "    </tr>\n",
       "    <tr>\n",
       "      <th>f7</th>\n",
       "      <td>-0.21</td>\n",
       "    </tr>\n",
       "    <tr>\n",
       "      <th>f8</th>\n",
       "      <td>0.35</td>\n",
       "    </tr>\n",
       "    <tr>\n",
       "      <th>f12</th>\n",
       "      <td>-0.65</td>\n",
       "    </tr>\n",
       "    <tr>\n",
       "      <th>f14</th>\n",
       "      <td>-0.23</td>\n",
       "    </tr>\n",
       "    <tr>\n",
       "      <th>f15</th>\n",
       "      <td>0.36</td>\n",
       "    </tr>\n",
       "    <tr>\n",
       "      <th>f22</th>\n",
       "      <td>-0.27</td>\n",
       "    </tr>\n",
       "    <tr>\n",
       "      <th>f23</th>\n",
       "      <td>-0.26</td>\n",
       "    </tr>\n",
       "    <tr>\n",
       "      <th>f24</th>\n",
       "      <td>-0.29</td>\n",
       "    </tr>\n",
       "    <tr>\n",
       "      <th>f25</th>\n",
       "      <td>0.28</td>\n",
       "    </tr>\n",
       "    <tr>\n",
       "      <th>f31</th>\n",
       "      <td>0.24</td>\n",
       "    </tr>\n",
       "    <tr>\n",
       "      <th>f35</th>\n",
       "      <td>0.25</td>\n",
       "    </tr>\n",
       "    <tr>\n",
       "      <th>f42</th>\n",
       "      <td>-0.29</td>\n",
       "    </tr>\n",
       "    <tr>\n",
       "      <th>f46</th>\n",
       "      <td>-0.21</td>\n",
       "    </tr>\n",
       "    <tr>\n",
       "      <th>f47</th>\n",
       "      <td>-0.21</td>\n",
       "    </tr>\n",
       "    <tr>\n",
       "      <th>activity</th>\n",
       "      <td>1.00</td>\n",
       "    </tr>\n",
       "  </tbody>\n",
       "</table>\n",
       "</div>"
      ],
      "text/plain": [
       "          activity\n",
       "f4           -0.66\n",
       "f6            0.21\n",
       "f7           -0.21\n",
       "f8            0.35\n",
       "f12          -0.65\n",
       "f14          -0.23\n",
       "f15           0.36\n",
       "f22          -0.27\n",
       "f23          -0.26\n",
       "f24          -0.29\n",
       "f25           0.28\n",
       "f31           0.24\n",
       "f35           0.25\n",
       "f42          -0.29\n",
       "f46          -0.21\n",
       "f47          -0.21\n",
       "activity      1.00"
      ]
     },
     "execution_count": 334,
     "metadata": {},
     "output_type": "execute_result"
    }
   ],
   "source": [
    "a = pd.DataFrame(df.corr().round(2)['activity'])\n",
    "b = a[(a['activity'] > 0.2) | (a['activity'] < -0.2)]\n",
    "\n",
    "correlated_cols = b.index.tolist()\n",
    "\n",
    "b"
   ]
  },
  {
   "cell_type": "markdown",
   "metadata": {},
   "source": [
    "<h3> Model"
   ]
  },
  {
   "cell_type": "code",
   "execution_count": 335,
   "metadata": {},
   "outputs": [
    {
     "data": {
      "text/plain": [
       "['f4',\n",
       " 'f6',\n",
       " 'f7',\n",
       " 'f8',\n",
       " 'f12',\n",
       " 'f14',\n",
       " 'f15',\n",
       " 'f22',\n",
       " 'f23',\n",
       " 'f24',\n",
       " 'f25',\n",
       " 'f31',\n",
       " 'f35',\n",
       " 'f42',\n",
       " 'f46',\n",
       " 'f47',\n",
       " 'activity']"
      ]
     },
     "execution_count": 335,
     "metadata": {},
     "output_type": "execute_result"
    }
   ],
   "source": [
    "correlated_cols"
   ]
  },
  {
   "cell_type": "code",
   "execution_count": 336,
   "metadata": {},
   "outputs": [],
   "source": [
    "X = df[correlated_cols]\n",
    "\n",
    "X = X.dropna()\n",
    "\n",
    "y = np.log1p(X['activity'].values)\n",
    "X = X.drop('activity',axis=1)"
   ]
  },
  {
   "cell_type": "code",
   "execution_count": 337,
   "metadata": {},
   "outputs": [
    {
     "data": {
      "application/vnd.jupyter.widget-view+json": {
       "model_id": "f1f751169dd5428f92ee359ba5555e33",
       "version_major": 2,
       "version_minor": 0
      },
      "text/plain": [
       "HBox(children=(IntProgress(value=0, max=7), HTML(value='')))"
      ]
     },
     "metadata": {},
     "output_type": "display_data"
    },
    {
     "name": "stdout",
     "output_type": "stream",
     "text": [
      "[-8.7634, -8.8303, -8.8359, -8.8462, -8.839, -8.8803, -8.8487] \n",
      "\n",
      "-8.8348 2.1521\n"
     ]
    }
   ],
   "source": [
    "def mape(y, y_pred): \n",
    "    y, y_pred = np.array(y), np.array(y_pred)\n",
    "    return np.mean(np.abs((y - y_pred) / y)) * 100\n",
    "\n",
    "MAPE = make_scorer(mape, greater_is_better = False)\n",
    "\n",
    "\n",
    "model = LinearRegression()\n",
    "\n",
    "score_means = []\n",
    "score_stds = []\n",
    "for i in tqdm(range(3,10)):\n",
    "    scores = (cross_val_score(model, X,y, scoring = MAPE, cv = i)) \n",
    "    score_means.append(round(scores.mean(),4))\n",
    "    score_stds.append(round(scores.std(),4))\n",
    "\n",
    "print(score_means,'\\n')\n",
    "print(round(np.mean(score_means),4), round(np.mean(score_stds),4))"
   ]
  },
  {
   "cell_type": "code",
   "execution_count": 339,
   "metadata": {},
   "outputs": [
    {
     "name": "stdout",
     "output_type": "stream",
     "text": [
      "R2:  0.465\n",
      "R2 adj:  0.465\n",
      "gap between R2 and adj R2:  0.0\n",
      "\n",
      "\n",
      "                            OLS Regression Results                            \n",
      "==============================================================================\n",
      "Dep. Variable:                      y   R-squared:                       0.465\n",
      "Model:                            OLS   Adj. R-squared:                  0.465\n",
      "Method:                 Least Squares   F-statistic:                 1.668e+04\n",
      "Date:                Mon, 28 Oct 2019   Prob (F-statistic):               0.00\n",
      "Time:                        15:34:35   Log-Likelihood:            -8.7333e+05\n",
      "No. Observations:              307153   AIC:                         1.747e+06\n",
      "Df Residuals:                  307136   BIC:                         1.747e+06\n",
      "Df Model:                          16                                         \n",
      "Covariance Type:            nonrobust                                         \n",
      "==============================================================================\n",
      "                 coef    std err          t      P>|t|      [0.025      0.975]\n",
      "------------------------------------------------------------------------------\n",
      "const         35.5461      0.007   4740.917      0.000      35.531      35.561\n",
      "f4            -1.6625      0.022    -74.879      0.000      -1.706      -1.619\n",
      "f6            -0.0463      0.009     -5.389      0.000      -0.063      -0.029\n",
      "f7             0.1658      0.013     12.516      0.000       0.140       0.192\n",
      "f8             0.3428      0.036      9.640      0.000       0.273       0.413\n",
      "f12           -2.0577      0.023    -90.433      0.000      -2.102      -2.013\n",
      "f14           -0.3135      0.014    -22.275      0.000      -0.341      -0.286\n",
      "f15           -0.0305      0.036     -0.848      0.397      -0.101       0.040\n",
      "f22            0.0981      0.019      5.266      0.000       0.062       0.135\n",
      "f23            0.4125      0.020     20.300      0.000       0.373       0.452\n",
      "f24           -0.2198      0.016    -14.163      0.000      -0.250      -0.189\n",
      "f25            0.1412      0.010     13.656      0.000       0.121       0.161\n",
      "f31            0.0361      0.010      3.516      0.000       0.016       0.056\n",
      "f35            0.0356      0.009      4.116      0.000       0.019       0.052\n",
      "f42           -0.1117      0.014     -7.863      0.000      -0.140      -0.084\n",
      "f46           -5.3286      0.515    -10.355      0.000      -6.337      -4.320\n",
      "f47            5.1230      0.514      9.973      0.000       4.116       6.130\n",
      "==============================================================================\n",
      "Omnibus:                    28228.336   Durbin-Watson:                   1.175\n",
      "Prob(Omnibus):                  0.000   Jarque-Bera (JB):           203759.302\n",
      "Skew:                          -0.071   Prob(JB):                         0.00\n",
      "Kurtosis:                       6.988   Cond. No.                         230.\n",
      "==============================================================================\n",
      "\n",
      "Warnings:\n",
      "[1] Standard Errors assume that the covariance matrix of the errors is correctly specified.\n"
     ]
    }
   ],
   "source": [
    "if 'const' not in X.columns:\n",
    "    X = (X- X.mean()) / X.std()\n",
    "    X = sm.add_constant(X)\n",
    "\n",
    "model = sm.OLS(y,X)\n",
    "results = model.fit()\n",
    "\n",
    "print('R2: ', round(results.rsquared, 3))\n",
    "print('R2 adj: ', round(results.rsquared_adj, 3))\n",
    "print('gap between R2 and adj R2: ', round(results.rsquared - results.rsquared_adj, 3)) \n",
    "print('\\n')\n",
    "\n",
    "print(results.summary())"
   ]
  },
  {
   "cell_type": "markdown",
   "metadata": {},
   "source": [
    "<h3> predict test"
   ]
  },
  {
   "cell_type": "code",
   "execution_count": 340,
   "metadata": {},
   "outputs": [],
   "source": [
    "l = X.columns.tolist()\n",
    "l.remove('const')"
   ]
  },
  {
   "cell_type": "code",
   "execution_count": 341,
   "metadata": {},
   "outputs": [],
   "source": [
    "to_predict = df[df.index >= '2019-01-01'][l]\n",
    "to_predict = to_predict.merge(activity_test_target, how = 'inner',left_index=True,right_index=True)"
   ]
  },
  {
   "cell_type": "code",
   "execution_count": 342,
   "metadata": {},
   "outputs": [],
   "source": [
    "l.append('activity')\n",
    "to_fit = df[l].dropna()"
   ]
  },
  {
   "cell_type": "markdown",
   "metadata": {},
   "source": [
    "<h3>"
   ]
  },
  {
   "cell_type": "code",
   "execution_count": 343,
   "metadata": {},
   "outputs": [
    {
     "data": {
      "text/plain": [
       "[<matplotlib.lines.Line2D at 0x1c30135f28>]"
      ]
     },
     "execution_count": 343,
     "metadata": {},
     "output_type": "execute_result"
    },
    {
     "data": {
      "image/png": "[encoded data removed]",
      "text/plain": [
       "<Figure size 432x288 with 1 Axes>"
      ]
     },
     "metadata": {
      "needs_background": "light"
     },
     "output_type": "display_data"
    }
   ],
   "source": [
    "model = LinearRegression()\n",
    "model.fit(to_fit.drop('activity',axis=1), to_fit['activity'])\n",
    "\n",
    "pred = model.predict(to_predict)\n",
    "plt.plot(pred)"
   ]
  },
  {
   "cell_type": "code",
   "execution_count": 344,
   "metadata": {},
   "outputs": [],
   "source": [
    "submit = activity_test_target.copy()\n",
    "submit['activity'] = np.expm1(pred)\n",
    "submit.to_csv('катализатор_6.csv')"
   ]
  }
 ],
 "metadata": {
  "kernelspec": {
   "display_name": "Python 3",
   "language": "python",
   "name": "python3"
  },
  "language_info": {
   "codemirror_mode": {
    "name": "ipython",
    "version": 3
   },
   "file_extension": ".py",
   "mimetype": "text/x-python",
   "name": "python",
   "nbconvert_exporter": "python",
   "pygments_lexer": "ipython3",
   "version": "3.7.6"
  }
 },
 "nbformat": 4,
 "nbformat_minor": 2
}
